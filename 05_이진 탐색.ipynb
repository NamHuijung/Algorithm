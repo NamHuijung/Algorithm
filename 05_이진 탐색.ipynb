{
 "cells": [
  {
   "cell_type": "markdown",
   "id": "e3797ea7",
   "metadata": {},
   "source": [
    "## **이진 탐색 소스코드 : 재귀적 구현**"
   ]
  },
  {
   "cell_type": "code",
   "execution_count": 1,
   "id": "04aef9fe",
   "metadata": {},
   "outputs": [],
   "source": [
    "# 이진 탐색 소스코드 구현 (재귀 함수)\n",
    "def binary_search(array, target, start, end):\n",
    "    if start > end:\n",
    "        return None\n",
    "    mid = (start + end) // 2\n",
    "    # 찾는 경우 중간점 인덱스 반환\n",
    "    if array[mid] == target:\n",
    "        return mid\n",
    "    # 중간점의 값보다 찾고자 하는 값이 작은 경우 왼쪽 확인\n",
    "    elif array[mid] > target:\n",
    "        return binary_search(array, target, start, mid-1)\n",
    "    # 중간점의 값보다 찾고자 하는 값이 큰 경우 오른쪽 확인\n",
    "    else:\n",
    "        return binary_search(array, target, mid+1, end)"
   ]
  },
  {
   "cell_type": "code",
   "execution_count": 3,
   "id": "656438d4",
   "metadata": {},
   "outputs": [
    {
     "name": "stdout",
     "output_type": "stream",
     "text": [
      "10 7\n",
      "1 3 5 6 9 11 13 15 17 19\n",
      "원소가 존재하지 않습니다.\n"
     ]
    },
    {
     "data": {
      "text/plain": [
       "'\\n10 7\\n1 3 5 7 9 11 13 11 15 17 19\\n\\n10 7\\n1 3 5 6 9 11 13 15 17 19\\n'"
      ]
     },
     "execution_count": 3,
     "metadata": {},
     "output_type": "execute_result"
    }
   ],
   "source": [
    "# n(원소의 개수)과 target(찾고자 하는 값)을 입력 받기\n",
    "n, target = map(int, input().split())\n",
    "# 전체 원소 입력 받기\n",
    "array = list(map(int, input().split()))\n",
    "\n",
    "# 이진 탐색 수행 결과 출력\n",
    "result = binary_search(array, target, 0, n-1)\n",
    "if result == None:\n",
    "    print(\"원소가 존재하지 않습니다.\")\n",
    "else:\n",
    "    print(result + 1)\n",
    "\n",
    "'''\n",
    "10 7\n",
    "1 3 5 7 9 11 13 11 15 17 19\n",
    "\n",
    "10 7\n",
    "1 3 5 6 9 11 13 15 17 19\n",
    "'''"
   ]
  },
  {
   "cell_type": "markdown",
   "id": "8ebe1d84",
   "metadata": {},
   "source": [
    "## **이진 탐색 소스코드 : 반복문 구현**"
   ]
  },
  {
   "cell_type": "code",
   "execution_count": 4,
   "id": "7498013a",
   "metadata": {},
   "outputs": [],
   "source": [
    "# 이진 탐색 소스코드 구현 (반복문)\n",
    "def binary_search(array, target, start, end):\n",
    "    while start <= end:\n",
    "        mid = (start + end) // 2\n",
    "        # 찾은 경우 중간점 인덱스 반환\n",
    "        if array[mid] == target:\n",
    "            return mid\n",
    "        # 중간점의 값보다 찾고자 하는 값이 작은 경우 왼쪽 확인\n",
    "        elif array[mid] > target:\n",
    "            end = mid - 1\n",
    "        # 중간점의 값보다 찾고자 하는 값이 큰 경우 오른쪽 확인\n",
    "        else:\n",
    "            start = mid + 1\n",
    "    return None"
   ]
  },
  {
   "cell_type": "code",
   "execution_count": 5,
   "id": "c1872a94",
   "metadata": {},
   "outputs": [
    {
     "name": "stdout",
     "output_type": "stream",
     "text": [
      "10 7\n",
      "1 3 5 7 9 11 13 11 15 17 19\n",
      "4\n"
     ]
    },
    {
     "data": {
      "text/plain": [
       "'\\n10 7\\n1 3 5 7 9 11 13 11 15 17 19\\n\\n10 7\\n1 3 5 6 9 11 13 15 17 19\\n'"
      ]
     },
     "execution_count": 5,
     "metadata": {},
     "output_type": "execute_result"
    }
   ],
   "source": [
    "# n(원소의 개수)과 target(찾고자 하는 값)을 입력 받기\n",
    "n, target = map(int, input().split())\n",
    "# 전체 원소 입력 받기\n",
    "array = list(map(int, input().split()))\n",
    "\n",
    "# 이진 탐색 수행 결과 출력\n",
    "result = binary_search(array, target, 0, n-1)\n",
    "if result == None:\n",
    "    print(\"원소가 존재하지 않습니다.\")\n",
    "else:\n",
    "    print(result + 1)\n",
    "\n",
    "'''\n",
    "10 7\n",
    "1 3 5 7 9 11 13 11 15 17 19\n",
    "\n",
    "10 7\n",
    "1 3 5 6 9 11 13 15 17 19\n",
    "'''"
   ]
  },
  {
   "cell_type": "markdown",
   "id": "b264d0a2",
   "metadata": {},
   "source": [
    "## **파이썬 이진 탐색 라이브러리**"
   ]
  },
  {
   "cell_type": "code",
   "execution_count": 6,
   "id": "f870c03a",
   "metadata": {},
   "outputs": [
    {
     "name": "stdout",
     "output_type": "stream",
     "text": [
      "2\n",
      "4\n"
     ]
    }
   ],
   "source": [
    "from bisect import bisect_left, bisect_right\n",
    "\n",
    "a = [1, 2, 4, 4, 8]\n",
    "x =4\n",
    "\n",
    "print(bisect_left(a, x))\n",
    "print(bisect_right(a, x))"
   ]
  },
  {
   "cell_type": "markdown",
   "id": "b18988e8",
   "metadata": {},
   "source": [
    "## **값이 특정 범위에 속하는 데이터 개수 구하기**"
   ]
  },
  {
   "cell_type": "code",
   "execution_count": 3,
   "id": "0197763a",
   "metadata": {},
   "outputs": [],
   "source": [
    "from bisect import bisect_left, bisect_right"
   ]
  },
  {
   "cell_type": "code",
   "execution_count": 4,
   "id": "585643b1",
   "metadata": {},
   "outputs": [],
   "source": [
    "# 값이 [left_value, right_value]인 데이터의 개수를 반환하는 함수\n",
    "def count_by_range(a, left_value, right_value):\n",
    "    right_index = bisect_right(a, right_value)\n",
    "    left_index = bisect_left(a, left_value)\n",
    "    return right_index - left_index"
   ]
  },
  {
   "cell_type": "code",
   "execution_count": 5,
   "id": "cdd6e160",
   "metadata": {},
   "outputs": [
    {
     "name": "stdout",
     "output_type": "stream",
     "text": [
      "2\n",
      "6\n"
     ]
    }
   ],
   "source": [
    "# 배열 선언\n",
    "a = [1, 2, 3, 3, 3, 3, 4, 4, 8, 9]\n",
    "\n",
    "# 값이 4인 데이터 개수 출력\n",
    "print(count_by_range(a, 4, 4))\n",
    "\n",
    "# 값이 [-1, 3] 범위에 있는 데이터 개수 출력\n",
    "print(count_by_range(a, -1, 3))"
   ]
  },
  {
   "cell_type": "code",
   "execution_count": null,
   "id": "62e0945e",
   "metadata": {},
   "outputs": [],
   "source": []
  }
 ],
 "metadata": {
  "kernelspec": {
   "display_name": "precourse",
   "language": "python",
   "name": "precourse"
  },
  "language_info": {
   "codemirror_mode": {
    "name": "ipython",
    "version": 3
   },
   "file_extension": ".py",
   "mimetype": "text/x-python",
   "name": "python",
   "nbconvert_exporter": "python",
   "pygments_lexer": "ipython3",
   "version": "3.8.15"
  }
 },
 "nbformat": 4,
 "nbformat_minor": 5
}
