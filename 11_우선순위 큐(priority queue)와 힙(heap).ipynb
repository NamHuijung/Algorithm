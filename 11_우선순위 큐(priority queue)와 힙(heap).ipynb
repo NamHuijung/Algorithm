{
 "cells": [
  {
   "cell_type": "code",
   "execution_count": 6,
   "id": "f79d185e",
   "metadata": {},
   "outputs": [],
   "source": [
    "# 우선순위 큐 라이브러리를 활용한 힙 정렬 구현\n",
    "import sys\n",
    "import heapq\n",
    "input = sys.stdin.readline # input이 sys.stdin.readline의 속도를 갖는다.\n",
    "\n",
    "# 파이썬에서의 heap은 min-heap 형태로 동작하다."
   ]
  },
  {
   "cell_type": "code",
   "execution_count": 7,
   "id": "41806cfd",
   "metadata": {},
   "outputs": [],
   "source": [
    "def heapsort(iterable):\n",
    "    h = []\n",
    "    result = []\n",
    "    # 모든 원소를 차례대로 힙에 삽입\n",
    "    for value in iterable:\n",
    "        heapq.heappush(h, value)\n",
    "    #힙에 삽입된 모든 원소를 차례대로 꺼내어 담기\n",
    "    for i in range(len(h)):\n",
    "        result.append(heapq.heappop(h))\n",
    "    return result"
   ]
  },
  {
   "cell_type": "code",
   "execution_count": 17,
   "id": "60b9f0d8",
   "metadata": {},
   "outputs": [
    {
     "name": "stdout",
     "output_type": "stream",
     "text": [
      "a\n",
      "<class 'str'>\n"
     ]
    }
   ],
   "source": [
    "n = input()\n",
    "print(n)\n",
    "print(type(n))\n",
    "# arr = []\n",
    "# for i in range(n):\n",
    "#     arr.append(int(input()))\n",
    "    \n",
    "# res = heapsort(arr)\n",
    "\n",
    "# for i in range(n):\n",
    "#     print(res[i])"
   ]
  },
  {
   "cell_type": "code",
   "execution_count": null,
   "id": "4fcfe8a6",
   "metadata": {},
   "outputs": [],
   "source": []
  },
  {
   "cell_type": "code",
   "execution_count": null,
   "id": "cbdc4df8",
   "metadata": {},
   "outputs": [],
   "source": []
  }
 ],
 "metadata": {
  "kernelspec": {
   "display_name": "precourse",
   "language": "python",
   "name": "precourse"
  },
  "language_info": {
   "codemirror_mode": {
    "name": "ipython",
    "version": 3
   },
   "file_extension": ".py",
   "mimetype": "text/x-python",
   "name": "python",
   "nbconvert_exporter": "python",
   "pygments_lexer": "ipython3",
   "version": "3.8.15"
  }
 },
 "nbformat": 4,
 "nbformat_minor": 5
}
